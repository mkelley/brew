{
 "cells": [
  {
   "cell_type": "code",
   "execution_count": 1,
   "metadata": {
    "collapsed": false
   },
   "outputs": [
    {
     "data": {
      "text/html": [
       "\n",
       "<table class=\"table table-condensed table-hover small\">\n",
       "  <thead>\n",
       "    <tr><th>Quantity</th><th>Item</th><th>Timing</th></tr>\n",
       "  </thead>\n",
       "  <tbody>\n",
       "    <tr><td>10.00 lbs</td><td>American 2-row</td><td>Mash</td></tr>\n",
       "    <tr><td>1.00 oz</td><td>Cascade</td><td>Boil for 60 minutes</td></tr>\n",
       "    <tr><td>0.50 oz</td><td>Cascade</td><td>Boil for 30 minutes</td></tr>\n",
       "    <tr><td>0.50 oz</td><td>Cascade</td><td>Boil for 10 minutes</td></tr>\n",
       "  </tbody>\n",
       "</table>\n",
       "        "
      ]
     },
     "metadata": {},
     "output_type": "display_data"
    },
    {
     "data": {
      "text/html": [
       "\n",
       "<table class=\"table table-condensed table-hover small\">\n",
       "  <thead>\n",
       "    <tr><th>Grain/Adjunct</th><th>Timing</th><th>Weight</th><th>Weight Fraction</th><th>PPG</th><th>Extract</th><th>Extract Fraction</th></tr>\n",
       "  </thead>\n",
       "  <tfoot>\n",
       "    <tr><td colspan=\"7\">Volume: 5.5 gal,\n",
       "Efficiency: 75%,\n",
       "Specific gravity: 1.050</td></tr>\n",
       "  </tfoot>\n",
       "  <tbody>\n",
       "    <tr><td>American 2-row</td><td>Mash</td><td>10.000</td><td>100.0%</td><td>37</td><td>277.5</td><td>100.0%</td></tr>\n",
       "  </tbody>\n",
       "</table>\n",
       "        "
      ]
     },
     "metadata": {},
     "output_type": "display_data"
    },
    {
     "data": {
      "text/html": [
       "\n",
       "<table class=\"table table-condensed table-hover small\">\n",
       "  <thead>\n",
       "    <tr><th>T mash (F)</th><th>T water (F)</th><th>Volume (gal)</th></tr>\n",
       "  </thead>\n",
       "  <tfoot>\n",
       "    <tr><td colspan=\"3\">Total mash water: 5.0 gal (2.0 qt/lb),\n",
       "Sparge with 3.5 gal of water\n",
       "</td></tr>\n",
       "  </tfoot>\n",
       "  <tbody>\n",
       "    <tr><td>152</td><td>164</td><td>3.50</td></tr>\n",
       "    <tr><td>170</td><td>200</td><td>1.50</td></tr>\n",
       "  </tbody>\n",
       "</table>\n",
       "        "
      ]
     },
     "metadata": {},
     "output_type": "display_data"
    },
    {
     "data": {
      "text/html": [
       "\n",
       "<table class=\"table table-condensed table-hover small\">\n",
       "  <thead>\n",
       "    <tr><th>Hop</th><th>Type</th><th>Alpha</th><th>Weight</th><th>Time</th><th>Utilization</th><th>Bitterness</th></tr>\n",
       "  </thead>\n",
       "  <tfoot>\n",
       "    <tr><td colspan=\"7\">Boil specific gravity: 1.044,\n",
       "Boil volume: 6.25 gal,\n",
       "Total bitterness: 32 IBU</td></tr>\n",
       "  </tfoot>\n",
       "  <tbody>\n",
       "    <tr><td>Cascade</td><td>Pellets</td><td>7.0</td><td>1.0</td><td>60</td><td>24.3</td><td>20</td></tr>\n",
       "    <tr><td>Cascade</td><td>Pellets</td><td>7.0</td><td>0.5</td><td>30</td><td>18.6</td><td>8</td></tr>\n",
       "    <tr><td>Cascade</td><td>Pellets</td><td>7.0</td><td>0.5</td><td>10</td><td>8.8</td><td>4</td></tr>\n",
       "  </tbody>\n",
       "</table>\n",
       "        "
      ]
     },
     "metadata": {},
     "output_type": "display_data"
    },
    {
     "name": "stdout",
     "output_type": "stream",
     "text": [
      "\n",
      "Starting gravity: 1.050\n",
      "Final gravity: 1.012\n",
      "Apparent attenutation: 77%\n",
      "ABV: 5.1%\n",
      "Calories: 172\n",
      "Carbohydrates: 17.3 g\n",
      "\n"
     ]
    }
   ],
   "source": [
    "from brew import *\n",
    "from brew.timing import Boil\n",
    "brew.set_format('notebook')\n",
    "\n",
    "wort = Wort([Fermentable(PPG.AmericanTwoRow, 10),\n",
    "             Hop('Cascade', 7.0, 1.0, Boil(60)),\n",
    "             Hop('Cascade', 7.0, 0.5, Boil(30)),\n",
    "             Hop('Cascade', 7.0, 0.5, Boil(10))\n",
    "             ])\n",
    "yeast = Culture(CultureBank.CaliforniaAle)\n",
    "brew = Brew(wort, yeast)\n",
    "beer = brew.brew()\n",
    "brew.summary()\n",
    "beer.summary()"
   ]
  },
  {
   "cell_type": "code",
   "execution_count": 2,
   "metadata": {
    "collapsed": false
   },
   "outputs": [
    {
     "data": {
      "text/html": [
       "\n",
       "<table class=\"table table-condensed table-hover small\">\n",
       "  <thead>\n",
       "    <tr><th>Quantity</th><th>Item</th><th>Timing</th></tr>\n",
       "  </thead>\n",
       "  <tbody>\n",
       "    <tr><td>10.00 lbs</td><td>American 2-row</td><td>Mash</td></tr>\n",
       "    <tr><td>1.00 oz</td><td>Cascade</td><td>Boil for 60 minutes</td></tr>\n",
       "    <tr><td>0.50 oz</td><td>Cascade</td><td>Boil for 30 minutes</td></tr>\n",
       "    <tr><td>0.50 oz</td><td>Cascade</td><td>Boil for 10 minutes</td></tr>\n",
       "    <tr><td>5.00 lbs</td><td>Mango puree</td><td>Secondary</td></tr>\n",
       "  </tbody>\n",
       "</table>\n",
       "        "
      ]
     },
     "metadata": {},
     "output_type": "display_data"
    },
    {
     "data": {
      "text/html": [
       "\n",
       "<table class=\"table table-condensed table-hover small\">\n",
       "  <thead>\n",
       "    <tr><th>Grain/Adjunct</th><th>Timing</th><th>Weight</th><th>Weight Fraction</th><th>PPG</th><th>Extract</th><th>Extract Fraction</th></tr>\n",
       "  </thead>\n",
       "  <tfoot>\n",
       "    <tr><td colspan=\"7\">Volume: 6.1 gal,\n",
       "Efficiency: 75%,\n",
       "Specific gravity: 1.052</td></tr>\n",
       "  </tfoot>\n",
       "  <tbody>\n",
       "    <tr><td>American 2-row</td><td>Mash</td><td>10.000</td><td>66.7%</td><td>37</td><td>277.5</td><td>87.4%</td></tr>\n",
       "    <tr><td>Mango puree</td><td>Secondary</td><td>5.000</td><td>33.3%</td><td>8</td><td>40.0</td><td>12.6%</td></tr>\n",
       "  </tbody>\n",
       "</table>\n",
       "        "
      ]
     },
     "metadata": {},
     "output_type": "display_data"
    },
    {
     "data": {
      "text/html": [
       "\n",
       "<table class=\"table table-condensed table-hover small\">\n",
       "  <thead>\n",
       "    <tr><th>T mash (F)</th><th>T water (F)</th><th>Volume (gal)</th></tr>\n",
       "  </thead>\n",
       "  <tfoot>\n",
       "    <tr><td colspan=\"3\">Total mash water: 5.0 gal (2.0 qt/lb),\n",
       "Sparge with 3.5 gal of water\n",
       "</td></tr>\n",
       "  </tfoot>\n",
       "  <tbody>\n",
       "    <tr><td>152</td><td>164</td><td>3.50</td></tr>\n",
       "    <tr><td>170</td><td>200</td><td>1.50</td></tr>\n",
       "  </tbody>\n",
       "</table>\n",
       "        "
      ]
     },
     "metadata": {},
     "output_type": "display_data"
    },
    {
     "data": {
      "text/html": [
       "\n",
       "<table class=\"table table-condensed table-hover small\">\n",
       "  <thead>\n",
       "    <tr><th>Hop</th><th>Type</th><th>Alpha</th><th>Weight</th><th>Time</th><th>Utilization</th><th>Bitterness</th></tr>\n",
       "  </thead>\n",
       "  <tfoot>\n",
       "    <tr><td colspan=\"7\">Boil specific gravity: 1.044,\n",
       "Boil volume: 6.25 gal,\n",
       "Total bitterness: 32 IBU</td></tr>\n",
       "  </tfoot>\n",
       "  <tbody>\n",
       "    <tr><td>Cascade</td><td>Pellets</td><td>7.0</td><td>1.0</td><td>60</td><td>24.3</td><td>20</td></tr>\n",
       "    <tr><td>Cascade</td><td>Pellets</td><td>7.0</td><td>0.5</td><td>30</td><td>18.6</td><td>8</td></tr>\n",
       "    <tr><td>Cascade</td><td>Pellets</td><td>7.0</td><td>0.5</td><td>10</td><td>8.8</td><td>4</td></tr>\n",
       "  </tbody>\n",
       "</table>\n",
       "        "
      ]
     },
     "metadata": {},
     "output_type": "display_data"
    },
    {
     "name": "stdout",
     "output_type": "stream",
     "text": [
      "\n",
      "Starting gravity: 1.052\n",
      "Final gravity: 1.012\n",
      "Apparent attenutation: 76%\n",
      "ABV: 5.2%\n",
      "Calories: 176\n",
      "Carbohydrates: 17.8 g\n",
      "\n"
     ]
    }
   ],
   "source": [
    "brew.wort.append(Fruit('Mango puree', 1.070, 5))\n",
    "beer = brew.brew()\n",
    "brew.summary()\n",
    "beer.summary()"
   ]
  },
  {
   "cell_type": "code",
   "execution_count": 3,
   "metadata": {
    "collapsed": false
   },
   "outputs": [
    {
     "data": {
      "text/html": [
       "\n",
       "<table class=\"table table-condensed table-hover small\">\n",
       "  <thead>\n",
       "    <tr><th>Quantity</th><th>Item</th><th>Timing</th></tr>\n",
       "  </thead>\n",
       "  <tbody>\n",
       "    <tr><td>6.50 lbs</td><td>Maris Otter</td><td>Mash</td></tr>\n",
       "    <tr><td>1.00 lb</td><td>Oats, flaked</td><td>Mash</td></tr>\n",
       "    <tr><td>0.50 lbs</td><td>English crystal 60-70</td><td>Mash</td></tr>\n",
       "    <tr><td>0.50 lbs</td><td>Carafa II</td><td>Mash</td></tr>\n",
       "    <tr><td>0.25 oz</td><td>UK Target</td><td>Boil for 60 minutes</td></tr>\n",
       "    <tr><td>0.12 oz</td><td>UK Target</td><td>Boil for 20 minutes</td></tr>\n",
       "    <tr><td>6 sticks</td><td>Cinnamon</td><td>Packaging</td></tr>\n",
       "    <tr><td>1 tablespoon</td><td>Allspice, whole (ground)</td><td>Packaging</td></tr>\n",
       "    <tr><td>1 tablespoon</td><td>Nutmeg, whole (ground)</td><td>Packaging</td></tr>\n",
       "    <tr><td>2 teaspoons</td><td>Cloves, whole (ground)</td><td>Packaging</td></tr>\n",
       "    <tr><td>1/2 tablespoon</td><td>Ginger, dried, ground</td><td>Packaging</td></tr>\n",
       "    <tr><td>from 2 Valencia oranges extracted with 2 oz vodka</td><td>Tincture of orange zest</td><td>Packaging</td></tr>\n",
       "    <tr><td></td><td>Filtered WSSC tap</td><td></td></tr>\n",
       "    <tr><td>2.1 oz</td><td>Table sugar</td><td>Packaging</td></tr>\n",
       "  </tbody>\n",
       "</table>\n",
       "        "
      ]
     },
     "metadata": {},
     "output_type": "display_data"
    },
    {
     "data": {
      "text/html": [
       "\n",
       "<table class=\"table table-condensed table-hover small\">\n",
       "  <thead>\n",
       "    <tr><th>Grain/Adjunct</th><th>Timing</th><th>Weight</th><th>Weight Fraction</th><th>PPG</th><th>Extract</th><th>Extract Fraction</th></tr>\n",
       "  </thead>\n",
       "  <tfoot>\n",
       "    <tr><td colspan=\"7\">Volume: 5.5 gal,\n",
       "Efficiency: 64%,\n",
       "Specific gravity: 1.036</td></tr>\n",
       "  </tfoot>\n",
       "  <tbody>\n",
       "    <tr><td>Maris Otter</td><td>Mash</td><td>6.500</td><td>76.5%</td><td>38</td><td>158.1</td><td>79.8%</td></tr>\n",
       "    <tr><td>Oats, flaked</td><td>Mash</td><td>1.000</td><td>11.8%</td><td>33</td><td>21.1</td><td>10.7%</td></tr>\n",
       "    <tr><td>English crystal 60-70</td><td>Mash</td><td>0.500</td><td>5.9%</td><td>34</td><td>10.9</td><td>5.5%</td></tr>\n",
       "    <tr><td>Carafa II</td><td>Mash</td><td>0.500</td><td>5.9%</td><td>25</td><td>8.0</td><td>4.0%</td></tr>\n",
       "  </tbody>\n",
       "</table>\n",
       "        "
      ]
     },
     "metadata": {},
     "output_type": "display_data"
    },
    {
     "data": {
      "text/html": [
       "\n",
       "<table class=\"table table-condensed table-hover small\">\n",
       "  <thead>\n",
       "    <tr><th>T mash (F)</th><th>T water (F)</th><th>Volume (gal)</th></tr>\n",
       "  </thead>\n",
       "  <tfoot>\n",
       "    <tr><td colspan=\"3\">Total mash water: 4.2 gal (2.0 qt/lb),\n",
       "Sparge with 4.2 gal of water\n",
       "</td></tr>\n",
       "  </tfoot>\n",
       "  <tbody>\n",
       "    <tr><td>154</td><td>167</td><td>2.97</td></tr>\n",
       "    <tr><td>170</td><td>200</td><td>1.18</td></tr>\n",
       "  </tbody>\n",
       "</table>\n",
       "        "
      ]
     },
     "metadata": {},
     "output_type": "display_data"
    },
    {
     "data": {
      "text/html": [
       "\n",
       "<table class=\"table table-condensed table-hover small\">\n",
       "  <thead>\n",
       "    <tr><th>Hop</th><th>Type</th><th>Alpha</th><th>Weight</th><th>Time</th><th>Utilization</th><th>Bitterness</th></tr>\n",
       "  </thead>\n",
       "  <tfoot>\n",
       "    <tr><td colspan=\"7\">Boil specific gravity: 1.032,\n",
       "Boil volume: 6.25 gal,\n",
       "Total bitterness: 11 IBU</td></tr>\n",
       "  </tfoot>\n",
       "  <tbody>\n",
       "    <tr><td>UK Target</td><td>Pellets</td><td>10.0</td><td>0.2</td><td>60</td><td>27.2</td><td>8</td></tr>\n",
       "    <tr><td>UK Target</td><td>Pellets</td><td>10.0</td><td>0.1</td><td>20</td><td>16.5</td><td>2</td></tr>\n",
       "  </tbody>\n",
       "</table>\n",
       "        "
      ]
     },
     "metadata": {},
     "output_type": "display_data"
    },
    {
     "name": "stdout",
     "output_type": "stream",
     "text": [
      "\n",
      "Starting gravity: 1.036\n",
      "Final gravity: 1.010\n",
      "Apparent attenutation: 73%\n",
      "ABV: 3.4%\n",
      "Calories: 123\n",
      "Carbohydrates: 13.3 g\n",
      "\n"
     ]
    }
   ],
   "source": [
    "wort = Wort([Fermentable(PPG.MarisOtter, 6.5),\n",
    "             Fermentable(PPG.OatsFlaked, 1),\n",
    "             Fermentable(PPG.EnglishCrystal60_70, 0.5),\n",
    "             Fermentable(PPG.Black, 0.5, name='Carafa II'),\n",
    "             Hop('UK Target', 10, 0.25, Boil(60)),\n",
    "             Hop('UK Target', 10, 0.125, Boil(20)),\n",
    "             Spice('Cinnamon', '6 sticks', Packaging()),\n",
    "             Spice('Allspice, whole (ground)', '1 tablespoon', Packaging()),\n",
    "             Spice('Nutmeg, whole (ground)', '1 tablespoon', Packaging()),\n",
    "             Spice('Cloves, whole (ground)', '2 teaspoons', Packaging()),\n",
    "             Spice('Ginger, dried, ground', '1/2 tablespoon', Packaging()),\n",
    "             Spice('Tincture of orange zest', 'from 2 Valencia oranges extracted with 2 oz vodka', Packaging()),\n",
    "             Water('Filtered WSSC tap', 0, Unspecified()),\n",
    "             Priming('Table sugar', '2.1 oz', Packaging()),\n",
    "             ], efficiency=0.64, T_sacc=154)\n",
    "yeast = Culture(CultureBank.DryEnglishAle)\n",
    "brew = Brew(wort, yeast)\n",
    "beer = brew.brew()\n",
    "brew.summary()\n",
    "beer.summary()"
   ]
  },
  {
   "cell_type": "code",
   "execution_count": null,
   "metadata": {
    "collapsed": false
   },
   "outputs": [],
   "source": []
  }
 ],
 "metadata": {
  "kernelspec": {
   "display_name": "Python 3",
   "language": "python",
   "name": "python3"
  },
  "language_info": {
   "codemirror_mode": {
    "name": "ipython",
    "version": 3
   },
   "file_extension": ".py",
   "mimetype": "text/x-python",
   "name": "python",
   "nbconvert_exporter": "python",
   "pygments_lexer": "ipython3",
   "version": "3.5.3"
  }
 },
 "nbformat": 4,
 "nbformat_minor": 0
}
