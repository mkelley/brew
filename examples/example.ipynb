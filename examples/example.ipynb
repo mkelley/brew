{
 "cells": [
  {
   "cell_type": "code",
   "execution_count": 1,
   "metadata": {
    "collapsed": false
   },
   "outputs": [
    {
     "name": "stdout",
     "output_type": "stream",
     "text": [
      "\n",
      "==============  ======  ======  ===============  ===  =======  ================\n",
      "Grain/Adjunct   Timing  Weight  Weight Fraction  PPG  Extract  Extract Fraction\n",
      "==============  ======  ======  ===============  ===  =======  ================\n",
      "American 2-row  Mash    10.000  100.0%           37   240.5    100.0%          \n",
      "==============  ======  ======  ===============  ===  =======  ================\n",
      "\n",
      "Kettle volume: 6.5 gal\n",
      "Efficiency: 65%\n",
      "Pre-boil specific gravity: 1.037\n",
      "\n",
      "\n",
      "\n",
      "==========  ===========  ============\n",
      "T mash (F)  T water (F)  Volume (gal)\n",
      "==========  ===========  ============\n",
      "152         158          7.00        \n",
      "==========  ===========  ============\n",
      "\n",
      "Total mash water: 7.0 gal (2.8 qt/lb)\n",
      "Sparge with 1.0 gal of water\n",
      "Collect 6.5 gal of wort\n",
      "\n",
      "\n",
      "\n",
      "=======  =======  =====  ======  ===================  ===========  ==========\n",
      "Hop      Type     Alpha  Weight  Time                 Utilization  Bitterness\n",
      "=======  =======  =====  ======  ===================  ===========  ==========\n",
      "Cascade  Pellets  7.0    1.0     Boil for 60 minutes  25.9         25        \n",
      "Cascade  Pellets  7.0    0.5     Boil for 30 minutes  19.9         9         \n",
      "Cascade  Pellets  7.0    0.5     Boil for 10 minutes  9.4          4         \n",
      "=======  =======  =====  ======  ===================  ===========  ==========\n",
      "\n",
      "Pre-boil: 6.5 gal at 1.037\n",
      "Post-boil: 5.5 gal at 1.044, 39 IBU\n",
      "\n",
      "\n",
      "Starting gravity: 1.044\n",
      "Final gravity: 1.010\n",
      "Bitterness: 39 IBU\n",
      "Apparent attenutation: 77%\n",
      "ABV: 4.4%\n",
      "Calories: 149\n",
      "Carbohydrates: 15.0 g\n",
      "\n"
     ]
    },
    {
     "data": {
      "text/plain": [
       "<brew.brew.Beer at 0x7faa24baaeb8>"
      ]
     },
     "execution_count": 1,
     "metadata": {},
     "output_type": "execute_result"
    }
   ],
   "source": [
    "from brew import *\n",
    "\n",
    "ingredients = Ingredients([\n",
    "        Grain(PPG.AmericanTwoRow, 10),\n",
    "        Hop('Cascade', 7.0, 1.0, Boil(60)),\n",
    "        Hop('Cascade', 7.0, 0.5, Boil(30)),\n",
    "        Hop('Cascade', 7.0, 0.5, Boil(10)),\n",
    "        Culture(CultureBank.CaliforniaAle)\n",
    "])\n",
    "brew = Brew(ingredients, 5.0)\n",
    "brew.ferment()"
   ]
  },
  {
   "cell_type": "code",
   "execution_count": 2,
   "metadata": {
    "collapsed": false
   },
   "outputs": [
    {
     "name": "stdout",
     "output_type": "stream",
     "text": [
      "\n",
      "==============  =========  ======  ===============  ===  =======  ================\n",
      "Grain/Adjunct   Timing     Weight  Weight Fraction  PPG  Extract  Extract Fraction\n",
      "==============  =========  ======  ===============  ===  =======  ================\n",
      "American 2-row  Mash       10.000  66.7%            37   240.5    85.7%           \n",
      "Mango puree     Secondary  5.000   33.3%            8    40.0     14.3%           \n",
      "==============  =========  ======  ===============  ===  =======  ================\n",
      "\n",
      "Kettle volume: 6.5 gal\n",
      "Efficiency: 65%\n",
      "Pre-boil specific gravity: 1.037\n",
      "\n",
      "\n",
      "\n",
      "==========  ===========  ============\n",
      "T mash (F)  T water (F)  Volume (gal)\n",
      "==========  ===========  ============\n",
      "152         158          7.00        \n",
      "==========  ===========  ============\n",
      "\n",
      "Total mash water: 7.0 gal (2.8 qt/lb)\n",
      "Sparge with 1.0 gal of water\n",
      "Collect 6.5 gal of wort\n",
      "\n",
      "\n",
      "\n",
      "=======  =======  =====  ======  ===================  ===========  ==========\n",
      "Hop      Type     Alpha  Weight  Time                 Utilization  Bitterness\n",
      "=======  =======  =====  ======  ===================  ===========  ==========\n",
      "Cascade  Pellets  7.0    1.0     Boil for 60 minutes  25.9         25        \n",
      "Cascade  Pellets  7.0    0.5     Boil for 30 minutes  19.9         9         \n",
      "Cascade  Pellets  7.0    0.5     Boil for 10 minutes  9.4          4         \n",
      "=======  =======  =====  ======  ===================  ===========  ==========\n",
      "\n",
      "Pre-boil: 6.5 gal at 1.037\n",
      "Post-boil: 5.5 gal at 1.044, 39 IBU\n",
      "\n",
      "\n",
      "Starting gravity: 1.046\n",
      "Final gravity: 1.009\n",
      "Bitterness: 34 IBU\n",
      "Apparent attenutation: 80%\n",
      "ABV: 4.8%\n",
      "Calories: 156\n",
      "Carbohydrates: 14.6 g\n",
      "\n"
     ]
    },
    {
     "data": {
      "text/plain": [
       "<brew.brew.Beer at 0x7faa254fcac8>"
      ]
     },
     "execution_count": 2,
     "metadata": {},
     "output_type": "execute_result"
    }
   ],
   "source": [
    "brew.ingredients.append(Fruit('Mango puree', 1.070, 5))\n",
    "brew.ferment()"
   ]
  },
  {
   "cell_type": "code",
   "execution_count": 3,
   "metadata": {
    "collapsed": false
   },
   "outputs": [
    {
     "name": "stdout",
     "output_type": "stream",
     "text": [
      "\n",
      "=====================  ======  ======  ===============  ===  =======  ================\n",
      "Grain/Adjunct          Timing  Weight  Weight Fraction  PPG  Extract  Extract Fraction\n",
      "=====================  ======  ======  ===============  ===  =======  ================\n",
      "Maris Otter            Mash    6.500   76.5%            38   158.1    79.8%           \n",
      "Oats, flaked           Mash    1.000   11.8%            33   21.1     10.7%           \n",
      "English crystal 60-70  Mash    0.500   5.9%             34   10.9     5.5%            \n",
      "Carafa II              Mash    0.500   5.9%             25   8.0      4.0%            \n",
      "=====================  ======  ======  ===============  ===  =======  ================\n",
      "\n",
      "Kettle volume: 6.5 gal\n",
      "Efficiency: 64%\n",
      "Pre-boil specific gravity: 1.030\n",
      "\n",
      "\n",
      "\n",
      "==========  ===========  ============\n",
      "T mash (F)  T water (F)  Volume (gal)\n",
      "==========  ===========  ============\n",
      "154         160          5.95        \n",
      "==========  ===========  ============\n",
      "\n",
      "Total mash water: 5.9 gal (2.8 qt/lb)\n",
      "Sparge with 1.9 gal of water\n",
      "Collect 6.5 gal of wort\n",
      "\n",
      "\n",
      "\n",
      "=========  =======  =====  ======  ===================  ===========  ==========\n",
      "Hop        Type     Alpha  Weight  Time                 Utilization  Bitterness\n",
      "=========  =======  =====  ======  ===================  ===========  ==========\n",
      "UK Target  Pellets  10.0   0.2     Boil for 60 minutes  27.5         9         \n",
      "UK Target  Pellets  10.0   0.1     Boil for 20 minutes  16.6         3         \n",
      "=========  =======  =====  ======  ===================  ===========  ==========\n",
      "\n",
      "Pre-boil: 6.5 gal at 1.030\n",
      "Post-boil: 5.5 gal at 1.036, 12 IBU\n",
      "\n",
      "\n",
      "Starting gravity: 1.036\n",
      "Final gravity: 1.010\n",
      "Bitterness: 12 IBU\n",
      "Apparent attenutation: 73%\n",
      "ABV: 3.4%\n",
      "Calories: 123\n",
      "Carbohydrates: 13.3 g\n",
      "\n"
     ]
    },
    {
     "data": {
      "text/plain": [
       "<brew.brew.Beer at 0x7faa2d4915c0>"
      ]
     },
     "execution_count": 3,
     "metadata": {},
     "output_type": "execute_result"
    }
   ],
   "source": [
    "ingredients = Ingredients([\n",
    "    Grain(PPG.MarisOtter, 6.5),\n",
    "    Grain(PPG.OatsFlaked, 1),\n",
    "    Grain(PPG.EnglishCrystal60_70, 0.5),\n",
    "    Grain(PPG.Black, 0.5, name='Carafa II'),\n",
    "    Hop('UK Target', 10, 0.25, Boil(60)),\n",
    "    Hop('UK Target', 10, 0.125, Boil(20)),\n",
    "    Spice('Cinnamon', '6 sticks', Packaging()),\n",
    "    Spice('Allspice, whole (ground)', '1 tablespoon', Packaging()),\n",
    "    Spice('Nutmeg, whole (ground)', '1 tablespoon', Packaging()),\n",
    "    Spice('Cloves, whole (ground)', '2 teaspoons', Packaging()),\n",
    "    Spice('Ginger, dried, ground', '1/2 tablespoon', Packaging()),\n",
    "    Spice('Tincture of orange zest', 'from 2 Valencia oranges extracted with 2 oz vodka', Packaging()),\n",
    "    Water('Filtered WSSC tap', 0, Unspecified()),\n",
    "    Priming('Table sugar', '2.1 oz', Packaging()),\n",
    "    Culture(CultureBank.DryEnglishAle)\n",
    "])\n",
    "brew = Brew(ingredients, 5.0, efficiency=0.64, T_sacc=[154])\n",
    "brew.ferment()"
   ]
  },
  {
   "cell_type": "code",
   "execution_count": null,
   "metadata": {
    "collapsed": false
   },
   "outputs": [],
   "source": []
  }
 ],
 "metadata": {
  "kernelspec": {
   "display_name": "Python 3",
   "language": "python",
   "name": "python3"
  },
  "language_info": {
   "codemirror_mode": {
    "name": "ipython",
    "version": 3
   },
   "file_extension": ".py",
   "mimetype": "text/x-python",
   "name": "python",
   "nbconvert_exporter": "python",
   "pygments_lexer": "ipython3",
   "version": "3.5.3"
  }
 },
 "nbformat": 4,
 "nbformat_minor": 0
}
